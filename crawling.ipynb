{
 "cells": [
  {
   "attachments": {},
   "cell_type": "markdown",
   "metadata": {},
   "source": [
    "### Import"
   ]
  },
  {
   "cell_type": "code",
   "execution_count": 23,
   "metadata": {},
   "outputs": [],
   "source": [
    "import requests\n",
    "import pymysql\n",
    "import json\n",
    "import pandas as pd\n",
    "import datetime as dt\n",
    "import pickle\n",
    "from bs4 import BeautifulSoup as bs"
   ]
  },
  {
   "attachments": {},
   "cell_type": "markdown",
   "metadata": {},
   "source": [
    "### DB 사용 예시"
   ]
  },
  {
   "cell_type": "code",
   "execution_count": 44,
   "metadata": {},
   "outputs": [],
   "source": [
    "con = pymysql.connect(host='localhost', user='ssafy', password='ssafy', \n",
    "                      db='access_db', charset='utf8mb4', autocommit=True)\n",
    "cur = con.cursor()\n",
    "\n",
    "sql = \"INSERT INTO table_name (value1, value2) VALUES (123, '이름');\"\n",
    "cur.execute(sql)\n",
    "\n",
    "con.commit()\n",
    "con.close()\n"
   ]
  },
  {
   "attachments": {},
   "cell_type": "markdown",
   "metadata": {},
   "source": [
    "### 환율"
   ]
  },
  {
   "attachments": {},
   "cell_type": "markdown",
   "metadata": {},
   "source": [
    "##### api 함수"
   ]
  },
  {
   "cell_type": "code",
   "execution_count": 5,
   "metadata": {},
   "outputs": [],
   "source": [
    "def exchange_rate_api(date):\n",
    "  API_HOST = \"https://www.koreaexim.go.kr/site/program/financial/exchangeJSON\"\n",
    "  key = \"?authkey=b60MyMtLUDVQyyiDjZRdFGbKxoJBypkl\"\n",
    "  search = \"&searchdate=\"+date\n",
    "  data = \"&data=AP01\"\n",
    "  \n",
    "  url = API_HOST+key+search+data\n",
    "  headers = {\"Content-Type\" : \"application/json\", \"charset\" : \"UTF-8\", \"Accept\":\"*/*\"}\n",
    "\n",
    "  try:\n",
    "    response = requests.get(url, headers=headers)\n",
    "    return response\n",
    "  except Exception as ex:\n",
    "    print(ex)\n",
    "  "
   ]
  },
  {
   "attachments": {},
   "cell_type": "markdown",
   "metadata": {},
   "source": [
    "##### 데이터 수집"
   ]
  },
  {
   "cell_type": "code",
   "execution_count": 6,
   "metadata": {},
   "outputs": [],
   "source": [
    "date_range = pd.date_range(start='1/1/2011', end='12/31/2022')\n",
    "\n",
    "result_list = []\n",
    "for date in date_range:\n",
    "  if dt.date.weekday(date) in (5, 6) :\n",
    "    continue\n",
    "  str_date = str(date).split(\" \")[0]\n",
    "  \n",
    "  r = json.loads(exchange_rate_api(str_date).text)\n",
    "  \n",
    "  flag = True\n",
    "  for data in r:\n",
    "    if data[\"result\"] == 4:\n",
    "      flag = False\n",
    "      break\n",
    "    if data[\"cur_nm\"] in ('미국 달러', '일본 옌', '유로') :\n",
    "      if(data[\"cur_nm\"] == '일본 옌'):\n",
    "        result_list.append(\"('{}', '{}', {})\".format(str_date, '일본 100엔', data[\"deal_bas_r\"].replace(\",\", \"\")))\n",
    "      else\n",
    "        result_list.append(\"('{}', '{}', {})\".format(str_date, data['cur_nm'], data[\"deal_bas_r\"].replace(\",\", \"\")))\n",
    "  if flag == False:\n",
    "    break"
   ]
  },
  {
   "attachments": {},
   "cell_type": "markdown",
   "metadata": {},
   "source": [
    "##### 저장 및 불러오기"
   ]
  },
  {
   "cell_type": "code",
   "execution_count": null,
   "metadata": {},
   "outputs": [],
   "source": [
    "with open(\"data.p\", \"wb\") as f:\n",
    "  pickle.dump(result_list, f)"
   ]
  },
  {
   "cell_type": "code",
   "execution_count": 5,
   "metadata": {},
   "outputs": [],
   "source": [
    "with open(\"data.p\", \"rb\") as f:\n",
    "  result_list = pickle.load(f)"
   ]
  },
  {
   "attachments": {},
   "cell_type": "markdown",
   "metadata": {},
   "source": [
    "##### DB 저장"
   ]
  },
  {
   "cell_type": "code",
   "execution_count": 14,
   "metadata": {},
   "outputs": [],
   "source": [
    "con = pymysql.connect(host='localhost', user='ssafy', password='ssafy', \n",
    "                      db='access_db', charset='utf8mb4', autocommit=True)\n",
    "cur = con.cursor()"
   ]
  },
  {
   "cell_type": "code",
   "execution_count": 15,
   "metadata": {},
   "outputs": [],
   "source": [
    "sql = \"INSERT INTO currency(cur_date, cur_name, cur_rate) VALUES \" + \",\".join(result)\n",
    "cur.execute(sql)\n",
    "con.close()"
   ]
  },
  {
   "attachments": {},
   "cell_type": "markdown",
   "metadata": {},
   "source": [
    "### 원자재(석유, 금)"
   ]
  },
  {
   "attachments": {},
   "cell_type": "markdown",
   "metadata": {},
   "source": [
    "- API가 2020년부터 데이터가 있어서 사용이 불가능.. 하하\n",
    "- Naver를 통해 크롤링해야할 듯.\n",
    "  - 주식, 코스닥 코스피도 동일\n",
    "- 석유 : 경유, 휘발유, 등유 3가지 평균값 활용\n",
    "  - 네이버 증권에는 등유가 없어서 경유, 휘발유만 사용?\n",
    "- 금 : 국내금, 국제금 2가지 각각 활용"
   ]
  },
  {
   "cell_type": "markdown",
   "metadata": {},
   "source": [
    "##### api 함수"
   ]
  },
  {
   "attachments": {},
   "cell_type": "markdown",
   "metadata": {},
   "source": [
    "##### 오일\n",
    "- 휘발유 : OIL_GSL\n",
    "- 경유 : OIL_LO\n",
    "- 예시 : https://finance.naver.com/marketindex/oilDailyQuote.naver?marketindexCd=OIL_GSL&page=640"
   ]
  },
  {
   "cell_type": "code",
   "execution_count": 20,
   "metadata": {},
   "outputs": [],
   "source": [
    "def oil_api(oil_type):\n",
    "  page = 640\n",
    "  HOST = \"https://finance.naver.com/marketindex/oilDailyQuote.naver?marketindexCd={}&page=\".format(oil_type)\n",
    "  \n",
    "  url = HOST+str(page)\n",
    "  headers = {\"Content-Type\" : \"application/json\", \"charset\" : \"UTF-8\", \"Accept\":\"*/*\"}\n",
    "\n",
    "  try:\n",
    "    response = requests.get(url, headers=headers)\n",
    "    return response\n",
    "  except Exception as ex:\n",
    "    print(ex)\n",
    "  "
   ]
  },
  {
   "cell_type": "code",
   "execution_count": 24,
   "metadata": {},
   "outputs": [],
   "source": [
    "page = oil_api(\"OIL_GSL\")\n",
    "soup = bs(page.text, \"html.parser\")"
   ]
  },
  {
   "cell_type": "code",
   "execution_count": 25,
   "metadata": {},
   "outputs": [
    {
     "data": {
      "text/plain": [
       "<html lang=\"ko\">\n",
       "<head>\n",
       "<title>네이버 증권</title>\n",
       "<meta content=\"text/html; charset=utf-8\" http-equiv=\"Content-Type\"/>\n",
       "<meta content=\"text/javascript\" http-equiv=\"Content-Script-Type\"/>\n",
       "<meta content=\"text/css\" http-equiv=\"Content-Style-Type\"/>\n",
       "<link href=\"https://ssl.pstatic.net/imgstock/static.pc/20230321170048/css/finance.css\" rel=\"stylesheet\" type=\"text/css\"/>\n",
       "<script language=\"javascript\">document.domain=\"naver.com\";</script>\n",
       "<script src=\"https://ssl.pstatic.net/imgstock/static.pc/20230321170048/js/info/jindo.min.ns.1.5.3.euckr.js\" type=\"text/javascript\"></script>\n",
       "<script src=\"https://ssl.pstatic.net/imgstock/static.pc/20230321170048/js/lcslog.js\" type=\"text/javascript\"></script>\n",
       "</head>\n",
       "<body>\n",
       "<div class=\"section_exchange2\">\n",
       "<h3 class=\"h_today\"><span>일별 시세</span></h3>\n",
       "<table border=\"1\" class=\"tbl_exchange today\" summary=\"일별 시세 리스트\">\n",
       "<caption>일별 시세</caption>\n",
       "<colgroup>\n",
       "<col width=\"85\"/>\n",
       "<col width=\"83\"/>\n",
       "<col width=\"83\"/>\n",
       "<col width=\"82\"/>\n",
       "</colgroup>\n",
       "<thead>\n",
       "<tr>\n",
       "<th class=\"th_today1\"><span>날짜</span></th>\n",
       "<th class=\"th_today2\"><span>종가 </span></th>\n",
       "<th class=\"th_today3\"><span>전일대비 </span></th>\n",
       "<th class=\"th_today4\"><span>등략율</span></th>\n",
       "</tr>\n",
       "</thead>\n",
       "<tbody>\n",
       "<tr class=\"up\">\n",
       "<td class=\"date\">\n",
       "\t\t\n",
       "\t\t2011.01.07\n",
       "\t\t</td>\n",
       "<td class=\"num\">1,820.21</td>\n",
       "<td class=\"num\"><img alt=\"상승\" height=\"6\" src=\"https://ssl.pstatic.net/static/nfinance/ico_up.gif\" width=\"7\"/> 0.77</td>\n",
       "<td class=\"num\">\n",
       "\t\t + 0.04%</td>\n",
       "</tr>\n",
       "<tr class=\"up\">\n",
       "<td class=\"date\">\n",
       "\t\t\n",
       "\t\t2011.01.06\n",
       "\t\t</td>\n",
       "<td class=\"num\">1,819.06</td>\n",
       "<td class=\"num\"><img alt=\"상승\" height=\"6\" src=\"https://ssl.pstatic.net/static/nfinance/ico_up.gif\" width=\"7\"/> 0.53</td>\n",
       "<td class=\"num\">\n",
       "\t\t + 0.03%</td>\n",
       "</tr>\n",
       "<tr class=\"up\">\n",
       "<td class=\"date\">\n",
       "\t\t\n",
       "\t\t2011.01.05\n",
       "\t\t</td>\n",
       "<td class=\"num\">1,818.20</td>\n",
       "<td class=\"num\"><img alt=\"상승\" height=\"6\" src=\"https://ssl.pstatic.net/static/nfinance/ico_up.gif\" width=\"7\"/> 0.72</td>\n",
       "<td class=\"num\">\n",
       "\t\t + 0.04%</td>\n",
       "</tr>\n",
       "<tr class=\"up\">\n",
       "<td class=\"date\">\n",
       "\t\t\n",
       "\t\t2011.01.04\n",
       "\t\t</td>\n",
       "<td class=\"num\">1,817.06</td>\n",
       "<td class=\"num\"><img alt=\"상승\" height=\"6\" src=\"https://ssl.pstatic.net/static/nfinance/ico_up.gif\" width=\"7\"/> 0.91</td>\n",
       "<td class=\"num\">\n",
       "\t\t + 0.05%</td>\n",
       "</tr>\n",
       "<tr class=\"up\">\n",
       "<td class=\"date\">\n",
       "\t\t\n",
       "\t\t2011.01.03\n",
       "\t\t</td>\n",
       "<td class=\"num\">1,815.73</td>\n",
       "<td class=\"num\"><img alt=\"상승\" height=\"6\" src=\"https://ssl.pstatic.net/static/nfinance/ico_up.gif\" width=\"7\"/> 0.49</td>\n",
       "<td class=\"num\">\n",
       "\t\t + 0.03%</td>\n",
       "</tr>\n",
       "<tr class=\"up\">\n",
       "<td class=\"date\">\n",
       "\t\t\n",
       "\t\t2011.01.02\n",
       "\t\t</td>\n",
       "<td class=\"num\">1,814.62</td>\n",
       "<td class=\"num\"><img alt=\"상승\" height=\"6\" src=\"https://ssl.pstatic.net/static/nfinance/ico_up.gif\" width=\"7\"/> 0.05</td>\n",
       "<td class=\"num\">\n",
       "\t\t + 0.00%</td>\n",
       "</tr>\n",
       "<tr class=\"up\">\n",
       "<td class=\"date\">\n",
       "\t\t\n",
       "\t\t2011.01.01\n",
       "\t\t</td>\n",
       "<td class=\"num\">1,814.10</td>\n",
       "<td class=\"num\"><img alt=\"상승\" height=\"6\" src=\"https://ssl.pstatic.net/static/nfinance/ico_up.gif\" width=\"7\"/> 1.45</td>\n",
       "<td class=\"num\">\n",
       "\t\t + 0.08%</td>\n",
       "</tr>\n",
       "</tbody>\n",
       "</table>\n",
       "<!-- paging -->\n",
       "<div class=\"paging\">\n",
       "<a class=\"prev\" href=\"/marketindex/oilDailyQuote.naver?marketindexCd=OIL_GSL&amp;page=635\" onclick=\"parent.clickcr(this,'med.pagination','','',event);\"><img alt=\"\" border=\"0\" height=\"5\" src=\"https://ssl.pstatic.net/static/nfinance/bu_pgarL.gif\" width=\"3\"/> 이전</a>\n",
       "<a href=\"/marketindex/oilDailyQuote.naver?marketindexCd=OIL_GSL&amp;page=638\" onclick=\"parent.clickcr(this,'med.pagination','','',event);\">638</a>\n",
       "<a href=\"/marketindex/oilDailyQuote.naver?marketindexCd=OIL_GSL&amp;page=639\" onclick=\"parent.clickcr(this,'med.pagination','','',event);\">639</a>\n",
       "<a class=\"on\" href=\"/marketindex/oilDailyQuote.naver?marketindexCd=OIL_GSL&amp;page=640\" onclick=\"parent.clickcr(this,'med.pagination','','',event);\">640</a>\n",
       "<a href=\"/marketindex/oilDailyQuote.naver?marketindexCd=OIL_GSL&amp;page=641\" onclick=\"parent.clickcr(this,'med.pagination','','',event);\">641</a>\n",
       "<a href=\"/marketindex/oilDailyQuote.naver?marketindexCd=OIL_GSL&amp;page=642\" onclick=\"parent.clickcr(this,'med.pagination','','',event);\">642</a>\n",
       "<a class=\"next\" href=\"/marketindex/oilDailyQuote.naver?marketindexCd=OIL_GSL&amp;page=645\" onclick=\"parent.clickcr(this,'med.pagination','','',event);\">다음 <img alt=\"\" border=\"0\" height=\"5\" src=\"https://ssl.pstatic.net/static/nfinance/bu_pgarR.gif\" width=\"3\"/></a>\n",
       "</div>\n",
       "</div>\n",
       "<script type=\"text/javascript\">\n",
       "</script>\n",
       "</body>\n",
       "</html>"
      ]
     },
     "execution_count": 25,
     "metadata": {},
     "output_type": "execute_result"
    }
   ],
   "source": [
    "soup"
   ]
  },
  {
   "cell_type": "markdown",
   "metadata": {},
   "source": [
    "##### 데이터 수집"
   ]
  },
  {
   "cell_type": "markdown",
   "metadata": {},
   "source": [
    "##### 저장 및 불러오기"
   ]
  },
  {
   "cell_type": "markdown",
   "metadata": {},
   "source": [
    "##### DB 저장"
   ]
  }
 ],
 "metadata": {
  "kernelspec": {
   "display_name": "base",
   "language": "python",
   "name": "python3"
  },
  "language_info": {
   "codemirror_mode": {
    "name": "ipython",
    "version": 3
   },
   "file_extension": ".py",
   "mimetype": "text/x-python",
   "name": "python",
   "nbconvert_exporter": "python",
   "pygments_lexer": "ipython3",
   "version": "3.10.9"
  },
  "orig_nbformat": 4
 },
 "nbformat": 4,
 "nbformat_minor": 2
}
