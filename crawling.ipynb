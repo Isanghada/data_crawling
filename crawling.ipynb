{
 "cells": [
  {
   "attachments": {},
   "cell_type": "markdown",
   "metadata": {},
   "source": [
    "### Import"
   ]
  },
  {
   "cell_type": "code",
   "execution_count": 3,
   "metadata": {},
   "outputs": [],
   "source": [
    "import requests\n",
    "import pymysql\n",
    "import json\n",
    "import pandas as pd\n",
    "import datetime as dt\n",
    "import pickle\n",
    "import time\n",
    "from tqdm import tqdm\n",
    "from bs4 import BeautifulSoup as bs"
   ]
  },
  {
   "cell_type": "code",
   "execution_count": 4,
   "metadata": {},
   "outputs": [],
   "source": [
    "import urllib\n",
    "from urllib.request import Request, urlopen"
   ]
  },
  {
   "attachments": {},
   "cell_type": "markdown",
   "metadata": {},
   "source": [
    "### DB 사용 예시"
   ]
  },
  {
   "cell_type": "code",
   "execution_count": 44,
   "metadata": {},
   "outputs": [],
   "source": [
    "con = pymysql.connect(host='localhost', user='ssafy', password='ssafy', \n",
    "                      db='access_db', charset='utf8mb4', autocommit=True)\n",
    "cur = con.cursor()\n",
    "\n",
    "sql = \"INSERT INTO table_name (value1, value2) VALUES (123, '이름');\"\n",
    "cur.execute(sql)\n",
    "\n",
    "con.commit()\n",
    "con.close()\n"
   ]
  },
  {
   "attachments": {},
   "cell_type": "markdown",
   "metadata": {},
   "source": [
    "### 환율"
   ]
  },
  {
   "attachments": {},
   "cell_type": "markdown",
   "metadata": {},
   "source": [
    "#### api 함수"
   ]
  },
  {
   "cell_type": "code",
   "execution_count": 57,
   "metadata": {},
   "outputs": [],
   "source": [
    "def exchange_rate_api(date):\n",
    "  API_HOST = \"https://www.koreaexim.go.kr/site/program/financial/exchangeJSON\"\n",
    "  key = \"?authkey=b60MyMtLUDVQyyiDjZRdFGbKxoJBypkl\"\n",
    "  search = \"&searchdate=\"+date\n",
    "  data = \"&data=AP01\"\n",
    "  \n",
    "  url = API_HOST+key+search+data\n",
    "  headers = {\"Content-Type\" : \"application/json\", \"charset\" : \"UTF-8\", \"Accept\":\"*/*\"}\n",
    "\n",
    "  try:\n",
    "    response = requests.get(url, headers=headers)\n",
    "    return response\n",
    "  except Exception as ex:\n",
    "    print(ex)\n",
    "  "
   ]
  },
  {
   "attachments": {},
   "cell_type": "markdown",
   "metadata": {},
   "source": [
    "#### 데이터 수집"
   ]
  },
  {
   "cell_type": "code",
   "execution_count": 58,
   "metadata": {},
   "outputs": [
    {
     "name": "stderr",
     "output_type": "stream",
     "text": [
      "100%|██████████| 429/429 [00:30<00:00, 14.24it/s]\n"
     ]
    }
   ],
   "source": [
    "date_range = pd.date_range(start='10/29/2021', end='12/31/2022')\n",
    "\n",
    "result_list = []\n",
    "for date in tqdm(date_range):\n",
    "  if dt.date.weekday(date) in (5, 6) :\n",
    "    continue\n",
    "  str_date = str(date).split(\" \")[0]\n",
    "  \n",
    "  r = json.loads(exchange_rate_api(str_date).text)\n",
    "  \n",
    "  flag = True\n",
    "  for data in r:\n",
    "    if data[\"result\"] == 4:\n",
    "      flag = False\n",
    "      break\n",
    "    if data[\"cur_nm\"] in ('미국 달러', '일본 옌', '유로') :\n",
    "      if(data[\"cur_nm\"] == '일본 옌'):\n",
    "        result_list.append(\"('{}', '{}', {})\".format(str_date, '일본 100엔', data[\"deal_bas_r\"].replace(\",\", \"\")))\n",
    "      else:\n",
    "        result_list.append(\"('{}', '{}', {})\".format(str_date, data['cur_nm'], data[\"deal_bas_r\"].replace(\",\", \"\")))\n",
    "  if flag == False:\n",
    "    break"
   ]
  },
  {
   "attachments": {},
   "cell_type": "markdown",
   "metadata": {},
   "source": [
    "#### 저장 및 불러오기"
   ]
  },
  {
   "cell_type": "code",
   "execution_count": 59,
   "metadata": {},
   "outputs": [],
   "source": [
    "with open(\"data(cur_20221231).p\", \"wb\") as f:\n",
    "  pickle.dump(result_list, f)"
   ]
  },
  {
   "cell_type": "code",
   "execution_count": 5,
   "metadata": {},
   "outputs": [],
   "source": [
    "with open(\"data.p\", \"rb\") as f:\n",
    "  result_list = pickle.load(f)"
   ]
  },
  {
   "attachments": {},
   "cell_type": "markdown",
   "metadata": {},
   "source": [
    "#### DB 저장"
   ]
  },
  {
   "cell_type": "code",
   "execution_count": 60,
   "metadata": {},
   "outputs": [],
   "source": [
    "con = pymysql.connect(host='localhost', user='ssafy', password='ssafy', \n",
    "                      db='access_db', charset='utf8mb4', autocommit=True)\n",
    "cur = con.cursor()"
   ]
  },
  {
   "cell_type": "code",
   "execution_count": 61,
   "metadata": {},
   "outputs": [],
   "source": [
    "sql = \"INSERT INTO currency(cur_date, cur_name, cur_rate) VALUES \" + \",\".join(result_list)\n",
    "cur.execute(sql)\n",
    "con.close()"
   ]
  },
  {
   "attachments": {},
   "cell_type": "markdown",
   "metadata": {},
   "source": [
    "### 원자재(석유, 금)"
   ]
  },
  {
   "attachments": {},
   "cell_type": "markdown",
   "metadata": {},
   "source": [
    "- API가 2020년부터 데이터가 있어서 사용이 불가능.. 하하\n",
    "- Naver를 통해 크롤링해야할 듯.\n",
    "  - 주식, 코스닥 코스피도 동일\n",
    "- 석유 : 경유, 휘발유, 등유 3가지 평균값 활용\n",
    "  - 네이버 증권에는 등유가 없어서 경유, 휘발유만 사용?\n",
    "- 금 : 국내금, 국제금 2가지 각각 활용"
   ]
  },
  {
   "attachments": {},
   "cell_type": "markdown",
   "metadata": {},
   "source": [
    "#### api 함수"
   ]
  },
  {
   "attachments": {},
   "cell_type": "markdown",
   "metadata": {},
   "source": [
    "##### 오일\n",
    "- 휘발유 : OIL_GSL\n",
    "- 경유 : OIL_LO\n",
    "- 예시 : https://finance.naver.com/marketindex/oilDailyQuote.naver?marketindexCd=OIL_GSL&page=640"
   ]
  },
  {
   "cell_type": "code",
   "execution_count": null,
   "metadata": {},
   "outputs": [],
   "source": [
    "def oil_api(oil_type):\n",
    "  page = 641\n",
    "  end = 15\n",
    "  oil = \"휘발유\" if oil_type == \"OIL_GSL\" else \"경유\"\n",
    "  HOST = \"https://finance.naver.com/marketindex/oilDailyQuote.naver?marketindexCd={}&page=\".format(oil_type)\n",
    "  \n",
    "  headers = {\"Content-Type\" : \"application/json\", \"charset\" : \"UTF-8\", \"Accept\":\"*/*\"}\n",
    "\n",
    "  try:\n",
    "    result_list = []\n",
    "    for p in tqdm(range(page, end-1, -1), \n",
    "              total = page-end+1, ## 전체 진행수\n",
    "              desc = 'Desc', ## 진행률 앞쪽 출력 문장\n",
    "              ncols = 80, ## 진행률 출력 폭 조절\n",
    "              leave = True, ## True 반복문 완료시 진행률 출력 남김. False 남기지 않음.\n",
    "            ):\n",
    "      url = HOST+str(p)\n",
    "      response = requests.get(url, headers=headers)\n",
    "      result_list.extend(oil_bs(response, oil))\n",
    "      \n",
    "      time.sleep(0.5)\n",
    "      \n",
    "    return result_list\n",
    "  except Exception as ex:\n",
    "    print(\"oil_api 오류 발생\")\n",
    "    print(ex)\n",
    "\n",
    "def oil_bs(response, oil_type):\n",
    "  start = dt.datetime.strptime(\"2011-01-01\", \"%Y-%m-%d\")\n",
    "  end = dt.datetime.strptime(\"2023-01-01\", \"%Y-%m-%d\")\n",
    "  \n",
    "  soup = bs(response.text, \"html.parser\")\n",
    "  result = soup.select(\"tbody > tr\")\n",
    "  \n",
    "  result_list = []  \n",
    "  try:\n",
    "    for p in result[::-1]:\n",
    "      state = p.get(\"class\")[0]\n",
    "      td_list = p.select(\"td\")\n",
    "      td = [td_list[0].getText().strip().replace(\".\", \"-\"), oil_type, state, td_list[1].getText().strip(), td_list[2].getText().strip(), td_list[3].getText().strip()[1:-1].strip()]\n",
    "      \n",
    "      cur_date = dt.datetime.strptime(td[0], \"%Y-%m-%d\")\n",
    "      start_diff = (cur_date - start).total_seconds()\n",
    "      end_diff= (end - cur_date).total_seconds()\n",
    "      if start_diff < 0 or end_diff <= 0:\n",
    "        continue\n",
    "      \n",
    "      result_list.append(\"('{}', '{}', '{}', {}, {}, {})\".format(td[0], td[1], td[2], td[3].replace(\",\", \"\"), td[4], td[5]))\n",
    "  except Exception as ex:\n",
    "    print(\"oil_bs 오류 발생\")\n",
    "    print(ex)\n",
    "  \n",
    "  return result_list"
   ]
  },
  {
   "cell_type": "markdown",
   "metadata": {},
   "source": [
    "##### 금\n",
    "- 국제금\n",
    "  - 예시 : https://finance.naver.com/marketindex/worldDailyQuote.naver?marketindexCd=CMDT_GC&fdtc=2&page=446\n",
    "- 국내금\n",
    "  - 예시 : https://finance.naver.com/marketindex/goldDailyQuote.naver?&page=305\n",
    "\n"
   ]
  },
  {
   "cell_type": "code",
   "execution_count": 93,
   "metadata": {},
   "outputs": [],
   "source": [
    "def gold_api(gold_type):\n",
    "  if gold_type == \"national\":\n",
    "    HOST = \"https://finance.naver.com/marketindex/worldDailyQuote.naver?marketindexCd=CMDT_GC&fdtc=2&page=\"\n",
    "    page = 446\n",
    "    end = 10\n",
    "    gold = \"국제금(달러/트로이온스)\"\n",
    "  else :\n",
    "    HOST = \"https://finance.naver.com/marketindex/goldDailyQuote.naver?&page=\"\n",
    "    page = 305\n",
    "    end = 8\n",
    "    gold = \"국내금(원/g)\"\n",
    "  \n",
    "  headers = {\"Content-Type\" : \"application/json\", \"charset\" : \"UTF-8\", \"Accept\":\"*/*\"}\n",
    "\n",
    "  try:\n",
    "    result_list = []\n",
    "    for p in tqdm(range(page, end-1, -1), \n",
    "              total = page-end+1, ## 전체 진행수\n",
    "              desc = 'Desc', ## 진행률 앞쪽 출력 문장\n",
    "              ncols = 80, ## 진행률 출력 폭 조절\n",
    "              leave = True, ## True 반복문 완료시 진행률 출력 남김. False 남기지 않음.\n",
    "            ):\n",
    "      url = HOST+str(p)\n",
    "      response = requests.get(url, headers=headers)\n",
    "      result_list.extend(gold_bs(response, gold))\n",
    "      \n",
    "      time.sleep(0.5)\n",
    "      \n",
    "    return result_list\n",
    "  except Exception as ex:\n",
    "    print(\"gold_api 오류 발생\")\n",
    "    print(ex)\n",
    "\n",
    "def gold_bs(response, gold_type):\n",
    "  start = dt.datetime.strptime(\"2011-01-01\", \"%Y-%m-%d\")\n",
    "  end = dt.datetime.strptime(\"2023-01-01\", \"%Y-%m-%d\")\n",
    "  \n",
    "  soup = bs(response.text, \"html.parser\")\n",
    "  result = soup.select(\"tbody > tr\")\n",
    "  \n",
    "  result_list = []  \n",
    "  try:\n",
    "    for p in result[::-1]:\n",
    "      state = p.get(\"class\")[0]\n",
    "      td_list = p.select(\"td\")\n",
    "      \n",
    "      td = [td_list[0].getText().strip().replace(\".\", \"-\"), gold_type, state, td_list[1].getText().strip(), td_list[2].getText().strip()]\n",
    "      if gold_type == \"국제금(달러/트로이온스)\" :\n",
    "        td.append(td_list[3].getText().strip()[1:-1].strip())\n",
    "      else :\n",
    "        temp_value = float(td[-2].replace(\",\", \"\")) + (float(td[-1].replace(\",\", \"\")) if td[2] == 'down' else (-float(td[-1].replace(\",\", \"\"))))\n",
    "        td.append(str(round(float(td[-1].replace(\",\", \"\")) / temp_value * 100, 2)))\n",
    "      \n",
    "      cur_date = dt.datetime.strptime(td[0], \"%Y-%m-%d\")\n",
    "      start_diff = (cur_date - start).total_seconds()\n",
    "      end_diff= (end - cur_date).total_seconds()\n",
    "      if start_diff < 0 or end_diff <= 0:\n",
    "        continue\n",
    "      \n",
    "      result_list.append(\"('{}', '{}', '{}', {}, {}, {})\".format(td[0], td[1], td[2], td[3].replace(\",\", \"\"), td[4].replace(\",\", \"\"), td[5]))\n",
    "  except Exception as ex:\n",
    "    print(\"gold_bs 오류 발생\")\n",
    "    print(ex)\n",
    "  \n",
    "  return result_list"
   ]
  },
  {
   "attachments": {},
   "cell_type": "markdown",
   "metadata": {},
   "source": [
    "#### 데이터 수집"
   ]
  },
  {
   "attachments": {},
   "cell_type": "markdown",
   "metadata": {},
   "source": [
    "##### 금"
   ]
  },
  {
   "cell_type": "code",
   "execution_count": 50,
   "metadata": {},
   "outputs": [
    {
     "name": "stderr",
     "output_type": "stream",
     "text": [
      "Desc: 100%|███████████████████████████████████| 437/437 [04:29<00:00,  1.62it/s]\n"
     ]
    }
   ],
   "source": [
    "result_list = gold_api(\"national\")"
   ]
  },
  {
   "cell_type": "code",
   "execution_count": 94,
   "metadata": {},
   "outputs": [
    {
     "name": "stderr",
     "output_type": "stream",
     "text": [
      "Desc: 100%|███████████████████████████████████| 298/298 [03:10<00:00,  1.57it/s]\n"
     ]
    }
   ],
   "source": [
    "result_list = gold_api(\"daily\")"
   ]
  },
  {
   "attachments": {},
   "cell_type": "markdown",
   "metadata": {},
   "source": [
    "#### 저장 및 불러오기"
   ]
  },
  {
   "cell_type": "code",
   "execution_count": 95,
   "metadata": {},
   "outputs": [],
   "source": [
    "with open(\"data(domestic_gold_230414).p\", \"wb\") as f:\n",
    "  pickle.dump(result_list, f)"
   ]
  },
  {
   "cell_type": "code",
   "execution_count": 67,
   "metadata": {},
   "outputs": [],
   "source": [
    "with open(\"data(domestic_gold_230414).p\", \"rb\") as f:\n",
    "  result_list = pickle.load(f)"
   ]
  },
  {
   "attachments": {},
   "cell_type": "markdown",
   "metadata": {},
   "source": [
    "#### DB 저장"
   ]
  },
  {
   "cell_type": "code",
   "execution_count": 96,
   "metadata": {},
   "outputs": [],
   "source": [
    "con = pymysql.connect(host='localhost', user='ssafy', password='ssafy', \n",
    "                      db='access_db', charset='utf8mb4', autocommit=True)\n",
    "cur = con.cursor()"
   ]
  },
  {
   "cell_type": "code",
   "execution_count": 97,
   "metadata": {},
   "outputs": [],
   "source": [
    "sql = \"INSERT INTO material(material_date, material_name, material_state, material_rate, material_change, material_change_rate) VALUES \" + \",\".join(result_list)\n",
    "cur.execute(sql)\n",
    "con.close()"
   ]
  },
  {
   "attachments": {},
   "cell_type": "markdown",
   "metadata": {},
   "source": [
    "### 주식 시세!"
   ]
  },
  {
   "attachments": {},
   "cell_type": "markdown",
   "metadata": {},
   "source": [
    "- 사용 주식 머시깽이들\n",
    "  - 전기 : 삼성전자(005930), \n",
    "  - 화학 : \n",
    "  - 생명 : \n",
    "  - IT : Naver(035420), 넥슨()?\n",
    "  - 엔터 : "
   ]
  },
  {
   "cell_type": "markdown",
   "metadata": {},
   "source": [
    "#### api 함수"
   ]
  },
  {
   "attachments": {},
   "cell_type": "markdown",
   "metadata": {},
   "source": [
    "- 주식 머시깽이들\n",
    "- 예시 : https://finance.naver.com/item/sise_day.naver?code={}&page="
   ]
  },
  {
   "cell_type": "code",
   "execution_count": 49,
   "metadata": {},
   "outputs": [],
   "source": [
    "def stock_api(stock_type):\n",
    "  page = 303\n",
    "  end = 8\n",
    "  \n",
    "  if stock_type == \"035420\":\n",
    "    stock = \"G IT\"\n",
    "  \n",
    "  HOST = \"https://finance.naver.com/item/sise_day.naver?code={}&page=\".format(stock_type)\n",
    "  \n",
    "  headers = {\"Content-Type\" : \"application/json\", \"charset\" : \"UTF-8\", \"Accept\":\"*/*\", 'User-Agent': 'Mozilla/5.0'}\n",
    "\n",
    "  try:\n",
    "    result_list = []\n",
    "    for p in tqdm(range(page, end-1, -1), \n",
    "              total = page-end+1, ## 전체 진행수\n",
    "              desc = 'Desc', ## 진행률 앞쪽 출력 문장\n",
    "              ncols = 80, ## 진행률 출력 폭 조절\n",
    "              leave = True, ## True 반복문 완료시 진행률 출력 남김. False 남기지 않음.\n",
    "            ):\n",
    "      url = HOST+str(p)\n",
    "      req = Request(url, headers=headers)\n",
    "      with urlopen(req) as response:\n",
    "        if not response is None:\n",
    "          result_list.extend(stock_bs(response, stock))\n",
    "      \n",
    "      time.sleep(0.5)\n",
    "      \n",
    "    return result_list\n",
    "  except Exception as ex:\n",
    "    print(\"stock_api 오류 발생\")\n",
    "    print(ex)\n",
    "\n",
    "def stock_bs(response, origin, after):\n",
    "  start = dt.datetime.strptime(\"2011-01-01\", \"%Y-%m-%d\")\n",
    "  end = dt.datetime.strptime(\"2023-01-01\", \"%Y-%m-%d\")\n",
    "  \n",
    "  soup = bs(response, \"html.parser\")\n",
    "  result = soup.select('table > tr[onmouseover=\"mouseOver(this)\"]')\n",
    "  \n",
    "  result_list = []  \n",
    "  try:\n",
    "    for p in result[::-1]:\n",
    "      td_list = p.select(\"td\")\n",
    "      \n",
    "      if td_list[2].select_one(\"img\") is None:\n",
    "        state = \"same\"\n",
    "      elif td_list[2].select_one(\"img\")[\"alt\"].strip() == \"상승\" :\n",
    "        state = \"up\" \n",
    "      elif td_list[2].select_one(\"img\")[\"alt\"].strip() == \"하락\" :\n",
    "        state = \"down\"\n",
    "      \n",
    "      td = [\n",
    "        td_list[0].getText().strip().replace(\".\", \"-\"), \n",
    "        after,\n",
    "        origin, \n",
    "        state, \n",
    "        td_list[1].getText().strip().replace(\",\", \"\"), \n",
    "        td_list[2].getText().strip().replace(\",\", \"\"), \n",
    "        td_list[4].getText().strip().replace(\",\", \"\"),\n",
    "        td_list[5].getText().strip().replace(\",\", \"\"),\n",
    "        td_list[6].getText().strip().replace(\",\", \"\"),\n",
    "        ]\n",
    "      \n",
    "      if state != \"same\":\n",
    "        change_rate = round(int(td[4]) / ( int(td[3]) + (int(td[4]) if td[2] == \"down\" else (-int(td[4])))) * 100, 1)\n",
    "        td.append(change_rate)\n",
    "      else:\n",
    "        td.append(0)\n",
    "      \n",
    "      cur_date = dt.datetime.strptime(td[0], \"%Y-%m-%d\")\n",
    "      start_diff = (cur_date - start).total_seconds()\n",
    "      end_diff= (end - cur_date).total_seconds()\n",
    "      if start_diff < 0 or end_diff <= 0:\n",
    "        continue\n",
    "      \n",
    "      result_list.append(\"('{}', '{}', '{}', '{}', {}, {}, {}, {}, {}, {})\".format(td[0], td[1], td[2], td[3], td[4], td[5], td[6], td[7], td[8], td[9]))\n",
    "  except Exception as ex:\n",
    "    print(\"stock_bs 오류 발생\")\n",
    "    print(ex)\n",
    "  \n",
    "  return result_list"
   ]
  },
  {
   "cell_type": "markdown",
   "metadata": {},
   "source": [
    "#### 데이터 수집"
   ]
  },
  {
   "cell_type": "code",
   "execution_count": 50,
   "metadata": {},
   "outputs": [
    {
     "name": "stderr",
     "output_type": "stream",
     "text": [
      "Desc: 100%|███████████████████████████████████| 296/296 [02:58<00:00,  1.66it/s]\n"
     ]
    }
   ],
   "source": [
    "result_list = stock_api(\"035420\")"
   ]
  },
  {
   "cell_type": "markdown",
   "metadata": {},
   "source": [
    "#### 저장 및 불러오기"
   ]
  },
  {
   "cell_type": "code",
   "execution_count": 51,
   "metadata": {},
   "outputs": [],
   "source": [
    "with open(\"data(stock_GIT_230416).p\", \"wb\") as f:\n",
    "  pickle.dump(result_list, f)"
   ]
  },
  {
   "cell_type": "code",
   "execution_count": null,
   "metadata": {},
   "outputs": [],
   "source": [
    "with open(\"data(stock_temp_230414).p\", \"rb\") as f:\n",
    "  result_list = pickle.load(f)"
   ]
  },
  {
   "cell_type": "markdown",
   "metadata": {},
   "source": [
    "#### DB 저장"
   ]
  },
  {
   "cell_type": "code",
   "execution_count": 55,
   "metadata": {},
   "outputs": [],
   "source": [
    "con = pymysql.connect(host='localhost', user='ssafy', password='ssafy', \n",
    "                      db='access_db', charset='utf8mb4', autocommit=True)\n",
    "cur = con.cursor()"
   ]
  },
  {
   "cell_type": "code",
   "execution_count": 56,
   "metadata": {},
   "outputs": [],
   "source": [
    "sql = \"INSERT INTO stock(stock_date, stock_name, stock_name_origin, stock_state, stock_rate, stock_change, stock_low, stock_high, stock_volume, stock_change_rate) VALUES \" + \",\".join(result_list)\n",
    "cur.execute(sql)\n",
    "con.close()"
   ]
  },
  {
   "attachments": {},
   "cell_type": "markdown",
   "metadata": {},
   "source": [
    "### 주식 뉴스!"
   ]
  },
  {
   "cell_type": "markdown",
   "metadata": {},
   "source": [
    "- 사용 주식 머시깽이들\n",
    "  - 전기 : 삼성전자(005930), \n",
    "  - 화학 : \n",
    "  - 생명 : \n",
    "  - IT : Naver(035420), 넥슨()?\n",
    "  - 엔터 : "
   ]
  },
  {
   "cell_type": "markdown",
   "metadata": {},
   "source": [
    "#### api 함수"
   ]
  },
  {
   "attachments": {},
   "cell_type": "markdown",
   "metadata": {},
   "source": [
    "- 예시 : https://search.naver.com/search.naver?where=news&sm=tab_pge&query={keyword}&sort=2&photo=3&field=0&pd=3&ds={yyyy.mm.dd}&de={yyyy.mm.dd}&mynews=0&office_type=0&office_section_code=0&news_office_checked=&nso=so:r,p:from{yyyymmdd}to{yyyymmdd},a:all&start={1->11->21->...}"
   ]
  },
  {
   "cell_type": "code",
   "execution_count": 9,
   "metadata": {},
   "outputs": [],
   "source": [
    "def news_api(news_type):\n",
    "  if news_type == \"네이버\":\n",
    "    stock = \"G IT\"\n",
    "    \n",
    "  headers = {\"Content-Type\" : \"application/json\", \"charset\" : \"UTF-8\", \"Accept\":\"*/*\", 'User-Agent': 'Mozilla/5.0'}\n",
    "  \n",
    "  result_list = []\n",
    "  # 검색 결과는 최대 4000개 보여주므로 각 년도의 분기별로 기사 추출.\n",
    "  st = dt.datetime.now()\n",
    "  print(\"시작 시간 : {}\".format(st))\n",
    "  for year in range(2011, 2023):\n",
    "    print(\"{}년도\".format(year), end=\" \")\n",
    "    for month in range(1, 12, 2):\n",
    "      startDate = '%d.%02d.%02d' %(year, month, 1)\n",
    "      nextDate = (dt.datetime(year, month+2, 1) if month < 11 else dt.datetime(year+1, 1, 1))  - dt.timedelta(days=1)  \n",
    "      endDate = nextDate.strftime(\"%Y.%m.%d\")\n",
    "      keyword = urllib.parse.quote(news_type)\n",
    "      HOST = \"https://search.naver.com/search.naver?where=news&sm=tab_pge&query={}&sort=2&photo=3&field=0&pd=3&ds={}&de={}&mynews=0&office_type=0&office_section_code=0&news_office_checked=&nso=so:r,p:from{}to{},a:all&start=\".format(keyword, startDate, endDate, startDate.replace(\".\", \"\"), endDate.replace(\".\", \"\"))\n",
    "      \n",
    "      try:\n",
    "        page = 1\n",
    "        max_page = 1\n",
    "        while True:\n",
    "          url = HOST + str(page)\n",
    "          req = Request(url, headers=headers)\n",
    "          with urlopen(req) as response:\n",
    "            if not response is None:\n",
    "              new_result_list, is_next = news_bs(response, news_type, stock)\n",
    "              result_list.extend(new_result_list)\n",
    "              \n",
    "              # 다음 페이지가 있다면 계속 탐색\n",
    "              if is_next : \n",
    "                page = page + 10\n",
    "              else :\n",
    "                break\n",
    "          time.sleep(0.1)\n",
    "        max_page = max(max_page, page)\n",
    "      except Exception as ex:\n",
    "        print(\"news_api 오류 발생\")\n",
    "        print(ex)\n",
    "      print(\"{} ~ {}\".format(month, month+1), end=\" \")\n",
    "    print(\"완료! : {}, 최대 페이지 : {}\".format(dt.datetime.now(), max_page))\n",
    "  \n",
    "  et = dt.datetime.now()\n",
    "  print(\"종료 시간 : {}\".format(et))\n",
    "  \n",
    "  # 소요 시간(초)\n",
    "  diff = int((et-st).total_seconds())\n",
    "  \n",
    "  # 소요 시간 세부 항목 계산\n",
    "  total_hour = int(diff // 3600)\n",
    "  diff = int(diff % 3600)\n",
    "  total_minute = int(diff // 60)\n",
    "  total_second = int(diff % 60)\n",
    "  print(\"소요 시간 : {}시간 {}분 {}초\".format(total_hour, total_minute, total_second))\n",
    "  \n",
    "  return result_list\n",
    "\n",
    "def news_bs(response, origin, after):\n",
    "  soup = bs(response, \"lxml\")\n",
    "  result = soup.select(\"ul.list_news > li.bx\")  # 기사 타이틀이 들어있는 태그 리스트\n",
    "  btn_next = soup.select_one(\"a.btn_next\")  # 다음 페이지 버튼\n",
    "  \n",
    "  # 다음 페이지가 있는지 검사\n",
    "  is_next = False if btn_next.get_attribute_list(\"href\")[0] is None else True\n",
    "  \n",
    "  result_list = [] # 결과 저장\n",
    "  try:\n",
    "    for p in result:\n",
    "      cur_date = p.select(\".info\")[2].get_text().strip()[:-1].replace(\".\", \"-\")  # 날짜\n",
    "      cur_title = p.select_one(\".news_tit\").get_attribute_list(\"title\")[0]  # 타이틀\n",
    "      cur_title = cur_title.replace(\"`\", '\"').replace(\"'\", '\"')\n",
    "      \n",
    "      if origin not in cur_title:\n",
    "        continue\n",
    "      \n",
    "      result_list.append(\"('{}', '{}', '{}', '{}')\".format(cur_date, origin, after, cur_title))\n",
    "  except Exception as ex:\n",
    "    print(\"stock_bs 오류 발생\")\n",
    "    print(ex)\n",
    "  \n",
    "  return result_list, is_next"
   ]
  },
  {
   "cell_type": "markdown",
   "metadata": {},
   "source": [
    "#### 데이터 수집"
   ]
  },
  {
   "cell_type": "code",
   "execution_count": null,
   "metadata": {},
   "outputs": [],
   "source": [
    "result_list = news_api(\"네이버\")"
   ]
  },
  {
   "cell_type": "markdown",
   "metadata": {},
   "source": [
    "#### 저장 및 불러오기"
   ]
  },
  {
   "cell_type": "code",
   "execution_count": 187,
   "metadata": {},
   "outputs": [],
   "source": [
    "with open(\"data(news_naver_230417)_2.p\", \"wb\") as f:\n",
    "  pickle.dump(result_list, f)"
   ]
  },
  {
   "cell_type": "code",
   "execution_count": 6,
   "metadata": {},
   "outputs": [],
   "source": [
    "with open(\"data(news_naver_230417)_2.p\", \"rb\") as f:\n",
    "  result_list = pickle.load(f)"
   ]
  },
  {
   "cell_type": "markdown",
   "metadata": {},
   "source": [
    "#### DB 저장"
   ]
  },
  {
   "cell_type": "code",
   "execution_count": 7,
   "metadata": {},
   "outputs": [],
   "source": [
    "con = pymysql.connect(host='localhost', user='ssafy', password='ssafy', \n",
    "                      db='access_db', charset='utf8mb4', autocommit=True)\n",
    "cur = con.cursor()"
   ]
  },
  {
   "cell_type": "code",
   "execution_count": 8,
   "metadata": {},
   "outputs": [],
   "source": [
    "sql = \"INSERT INTO news(news_date, news_name_origin, news_name, news_content) VALUES \" + \",\".join(result_list)\n",
    "cur.execute(sql)\n",
    "con.close()"
   ]
  }
 ],
 "metadata": {
  "kernelspec": {
   "display_name": "base",
   "language": "python",
   "name": "python3"
  },
  "language_info": {
   "codemirror_mode": {
    "name": "ipython",
    "version": 3
   },
   "file_extension": ".py",
   "mimetype": "text/x-python",
   "name": "python",
   "nbconvert_exporter": "python",
   "pygments_lexer": "ipython3",
   "version": "3.10.9"
  },
  "orig_nbformat": 4
 },
 "nbformat": 4,
 "nbformat_minor": 2
}
