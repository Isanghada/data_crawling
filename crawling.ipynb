{
 "cells": [
  {
   "attachments": {},
   "cell_type": "markdown",
   "metadata": {},
   "source": [
    "### Import"
   ]
  },
  {
   "cell_type": "code",
   "execution_count": 2,
   "metadata": {},
   "outputs": [],
   "source": [
    "import requests\n",
    "import pymysql\n",
    "import json\n",
    "import pandas as pd\n",
    "import datetime as dt\n",
    "import pickle"
   ]
  },
  {
   "attachments": {},
   "cell_type": "markdown",
   "metadata": {},
   "source": [
    "### DB 사용 예시"
   ]
  },
  {
   "cell_type": "code",
   "execution_count": 44,
   "metadata": {},
   "outputs": [],
   "source": [
    "con = pymysql.connect(host='localhost', user='ssafy', password='ssafy', \n",
    "                      db='access_db', charset='utf8mb4', autocommit=True)\n",
    "cur = con.cursor()\n",
    "\n",
    "sql = \"INSERT INTO table_name (value1, value2) VALUES (123, '이름');\"\n",
    "cur.execute(sql)\n",
    "\n",
    "con.commit()\n",
    "con.close()\n"
   ]
  },
  {
   "attachments": {},
   "cell_type": "markdown",
   "metadata": {},
   "source": [
    "### 환율"
   ]
  },
  {
   "attachments": {},
   "cell_type": "markdown",
   "metadata": {},
   "source": [
    "##### api 함수"
   ]
  },
  {
   "cell_type": "code",
   "execution_count": 5,
   "metadata": {},
   "outputs": [],
   "source": [
    "def exchange_rate_api(date):\n",
    "  API_HOST = \"https://www.koreaexim.go.kr/site/program/financial/exchangeJSON\"\n",
    "  key = \"?authkey=b60MyMtLUDVQyyiDjZRdFGbKxoJBypkl\"\n",
    "  search = \"&searchdate=\"+date\n",
    "  data = \"&data=AP01\"\n",
    "  \n",
    "  url = API_HOST+key+search+data\n",
    "  headers = {\"Content-Type\" : \"application/json\", \"charset\" : \"UTF-8\", \"Accept\":\"*/*\"}\n",
    "\n",
    "  try:\n",
    "    response = requests.get(url, headers=headers)\n",
    "    return response\n",
    "  except Exception as ex:\n",
    "    print(ex)\n",
    "  "
   ]
  },
  {
   "attachments": {},
   "cell_type": "markdown",
   "metadata": {},
   "source": [
    "##### 데이터 수집"
   ]
  },
  {
   "cell_type": "code",
   "execution_count": 6,
   "metadata": {},
   "outputs": [],
   "source": [
    "date_range = pd.date_range(start='1/1/2011', end='12/31/2022')\n",
    "\n",
    "result_list = []\n",
    "for date in date_range:\n",
    "  if dt.date.weekday(date) in (5, 6) :\n",
    "    continue\n",
    "  str_date = str(date).split(\" \")[0]\n",
    "  \n",
    "  r = json.loads(exchange_rate_api(str_date).text)\n",
    "  \n",
    "  flag = True\n",
    "  for data in r:\n",
    "    if data[\"result\"] == 4:\n",
    "      flag = False\n",
    "      break\n",
    "    if data[\"cur_nm\"] in ('미국 달러', '일본 옌', '유로') :\n",
    "      if(data[\"cur_nm\"] == '일본 옌'):\n",
    "        result_list.append(\"('{}', '{}', {})\".format(str_date, '일본 100엔', data[\"deal_bas_r\"].replace(\",\", \"\")))\n",
    "      else\n",
    "        result_list.append(\"('{}', '{}', {})\".format(str_date, data['cur_nm'], data[\"deal_bas_r\"].replace(\",\", \"\")))\n",
    "  if flag == False:\n",
    "    break"
   ]
  },
  {
   "attachments": {},
   "cell_type": "markdown",
   "metadata": {},
   "source": [
    "##### 저장 및 불러오기"
   ]
  },
  {
   "cell_type": "code",
   "execution_count": null,
   "metadata": {},
   "outputs": [],
   "source": [
    "with open(\"data.p\", \"wb\") as f:\n",
    "  pickle.dump(result_list, f)"
   ]
  },
  {
   "cell_type": "code",
   "execution_count": 5,
   "metadata": {},
   "outputs": [],
   "source": [
    "with open(\"data.p\", \"rb\") as f:\n",
    "  result_list = pickle.load(f)"
   ]
  },
  {
   "attachments": {},
   "cell_type": "markdown",
   "metadata": {},
   "source": [
    "##### DB 저장"
   ]
  },
  {
   "cell_type": "code",
   "execution_count": 14,
   "metadata": {},
   "outputs": [],
   "source": [
    "con = pymysql.connect(host='localhost', user='ssafy', password='ssafy', \n",
    "                      db='access_db', charset='utf8mb4', autocommit=True)\n",
    "cur = con.cursor()"
   ]
  },
  {
   "cell_type": "code",
   "execution_count": 15,
   "metadata": {},
   "outputs": [],
   "source": [
    "sql = \"INSERT INTO currency(cur_date, cur_name, cur_rate) VALUES \" + \",\".join(result)\n",
    "cur.execute(sql)\n",
    "con.close()"
   ]
  }
 ],
 "metadata": {
  "kernelspec": {
   "display_name": "base",
   "language": "python",
   "name": "python3"
  },
  "language_info": {
   "codemirror_mode": {
    "name": "ipython",
    "version": 3
   },
   "file_extension": ".py",
   "mimetype": "text/x-python",
   "name": "python",
   "nbconvert_exporter": "python",
   "pygments_lexer": "ipython3",
   "version": "3.10.9"
  },
  "orig_nbformat": 4
 },
 "nbformat": 4,
 "nbformat_minor": 2
}
