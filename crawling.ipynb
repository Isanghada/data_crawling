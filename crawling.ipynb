{
 "cells": [
  {
   "attachments": {},
   "cell_type": "markdown",
   "metadata": {},
   "source": [
    "### Import"
   ]
  },
  {
   "cell_type": "code",
   "execution_count": 3,
   "metadata": {},
   "outputs": [],
   "source": [
    "import requests\n",
    "import pymysql\n",
    "import json\n",
    "import pandas as pd\n",
    "import datetime as dt\n",
    "import pickle\n",
    "import time\n",
    "from tqdm import tqdm\n",
    "from bs4 import BeautifulSoup as bs"
   ]
  },
  {
   "attachments": {},
   "cell_type": "markdown",
   "metadata": {},
   "source": [
    "### DB 사용 예시"
   ]
  },
  {
   "cell_type": "code",
   "execution_count": 44,
   "metadata": {},
   "outputs": [],
   "source": [
    "con = pymysql.connect(host='localhost', user='ssafy', password='ssafy', \n",
    "                      db='access_db', charset='utf8mb4', autocommit=True)\n",
    "cur = con.cursor()\n",
    "\n",
    "sql = \"INSERT INTO table_name (value1, value2) VALUES (123, '이름');\"\n",
    "cur.execute(sql)\n",
    "\n",
    "con.commit()\n",
    "con.close()\n"
   ]
  },
  {
   "attachments": {},
   "cell_type": "markdown",
   "metadata": {},
   "source": [
    "### 환율"
   ]
  },
  {
   "attachments": {},
   "cell_type": "markdown",
   "metadata": {},
   "source": [
    "#### api 함수"
   ]
  },
  {
   "cell_type": "code",
   "execution_count": 3,
   "metadata": {},
   "outputs": [],
   "source": [
    "def exchange_rate_api(date):\n",
    "  API_HOST = \"https://www.koreaexim.go.kr/site/program/financial/exchangeJSON\"\n",
    "  key = \"?authkey=b60MyMtLUDVQyyiDjZRdFGbKxoJBypkl\"\n",
    "  search = \"&searchdate=\"+date\n",
    "  data = \"&data=AP01\"\n",
    "  \n",
    "  url = API_HOST+key+search+data\n",
    "  headers = {\"Content-Type\" : \"application/json\", \"charset\" : \"UTF-8\", \"Accept\":\"*/*\"}\n",
    "\n",
    "  try:\n",
    "    response = requests.get(url, headers=headers)\n",
    "    return response\n",
    "  except Exception as ex:\n",
    "    print(ex)\n",
    "  "
   ]
  },
  {
   "attachments": {},
   "cell_type": "markdown",
   "metadata": {},
   "source": [
    "#### 데이터 수집"
   ]
  },
  {
   "cell_type": "code",
   "execution_count": 5,
   "metadata": {},
   "outputs": [],
   "source": [
    "date_range = pd.date_range(start='11/1/2014', end='12/31/2022')\n",
    "\n",
    "result_list = []\n",
    "for date in date_range:\n",
    "  if dt.date.weekday(date) in (5, 6) :\n",
    "    continue\n",
    "  str_date = str(date).split(\" \")[0]\n",
    "  \n",
    "  r = json.loads(exchange_rate_api(str_date).text)\n",
    "  \n",
    "  flag = True\n",
    "  for data in r:\n",
    "    if data[\"result\"] == 4:\n",
    "      flag = False\n",
    "      break\n",
    "    if data[\"cur_nm\"] in ('미국 달러', '일본 옌', '유로') :\n",
    "      if(data[\"cur_nm\"] == '일본 옌'):\n",
    "        result_list.append(\"('{}', '{}', {})\".format(str_date, '일본 100엔', data[\"deal_bas_r\"].replace(\",\", \"\")))\n",
    "      else:\n",
    "        result_list.append(\"('{}', '{}', {})\".format(str_date, data['cur_nm'], data[\"deal_bas_r\"].replace(\",\", \"\")))\n",
    "  if flag == False:\n",
    "    break"
   ]
  },
  {
   "attachments": {},
   "cell_type": "markdown",
   "metadata": {},
   "source": [
    "#### 저장 및 불러오기"
   ]
  },
  {
   "cell_type": "code",
   "execution_count": 6,
   "metadata": {},
   "outputs": [],
   "source": [
    "with open(\"data(cur_).p\", \"wb\") as f:\n",
    "  pickle.dump(result_list, f)"
   ]
  },
  {
   "cell_type": "code",
   "execution_count": 5,
   "metadata": {},
   "outputs": [],
   "source": [
    "with open(\"data.p\", \"rb\") as f:\n",
    "  result_list = pickle.load(f)"
   ]
  },
  {
   "attachments": {},
   "cell_type": "markdown",
   "metadata": {},
   "source": [
    "#### DB 저장"
   ]
  },
  {
   "cell_type": "code",
   "execution_count": 8,
   "metadata": {},
   "outputs": [],
   "source": [
    "con = pymysql.connect(host='localhost', user='ssafy', password='ssafy', \n",
    "                      db='access_db', charset='utf8mb4', autocommit=True)\n",
    "cur = con.cursor()"
   ]
  },
  {
   "cell_type": "code",
   "execution_count": 10,
   "metadata": {},
   "outputs": [],
   "source": [
    "sql = \"INSERT INTO currency(cur_date, cur_name, cur_rate) VALUES \" + \",\".join(result_list)\n",
    "cur.execute(sql)\n",
    "con.close()"
   ]
  },
  {
   "attachments": {},
   "cell_type": "markdown",
   "metadata": {},
   "source": [
    "### 원자재(석유, 금)"
   ]
  },
  {
   "attachments": {},
   "cell_type": "markdown",
   "metadata": {},
   "source": [
    "- API가 2020년부터 데이터가 있어서 사용이 불가능.. 하하\n",
    "- Naver를 통해 크롤링해야할 듯.\n",
    "  - 주식, 코스닥 코스피도 동일\n",
    "- 석유 : 경유, 휘발유, 등유 3가지 평균값 활용\n",
    "  - 네이버 증권에는 등유가 없어서 경유, 휘발유만 사용?\n",
    "- 금 : 국내금, 국제금 2가지 각각 활용"
   ]
  },
  {
   "attachments": {},
   "cell_type": "markdown",
   "metadata": {},
   "source": [
    "#### api 함수"
   ]
  },
  {
   "attachments": {},
   "cell_type": "markdown",
   "metadata": {},
   "source": [
    "##### 오일\n",
    "- 휘발유 : OIL_GSL\n",
    "- 경유 : OIL_LO\n",
    "- 예시 : https://finance.naver.com/marketindex/oilDailyQuote.naver?marketindexCd=OIL_GSL&page=640"
   ]
  },
  {
   "cell_type": "code",
   "execution_count": null,
   "metadata": {},
   "outputs": [],
   "source": [
    "def oil_api(oil_type):\n",
    "  page = 641\n",
    "  end = 15\n",
    "  oil = \"휘발유\" if oil_type == \"OIL_GSL\" else \"경유\"\n",
    "  HOST = \"https://finance.naver.com/marketindex/oilDailyQuote.naver?marketindexCd={}&page=\".format(oil_type)\n",
    "  \n",
    "  headers = {\"Content-Type\" : \"application/json\", \"charset\" : \"UTF-8\", \"Accept\":\"*/*\"}\n",
    "\n",
    "  try:\n",
    "    result_list = []\n",
    "    for p in tqdm(range(page, end-1, -1), \n",
    "              total = page-end+1, ## 전체 진행수\n",
    "              desc = 'Desc', ## 진행률 앞쪽 출력 문장\n",
    "              ncols = 80, ## 진행률 출력 폭 조절\n",
    "              leave = True, ## True 반복문 완료시 진행률 출력 남김. False 남기지 않음.\n",
    "            ):\n",
    "      url = HOST+str(p)\n",
    "      response = requests.get(url, headers=headers)\n",
    "      result_list.extend(oil_bs(response, oil))\n",
    "      \n",
    "      time.sleep(0.5)\n",
    "      \n",
    "    return result_list\n",
    "  except Exception as ex:\n",
    "    print(\"oil_api 오류 발생\")\n",
    "    print(ex)\n",
    "\n",
    "def oil_bs(response, oil_type):\n",
    "  start = dt.datetime.strptime(\"2011-01-01\", \"%Y-%m-%d\")\n",
    "  end = dt.datetime.strptime(\"2023-01-01\", \"%Y-%m-%d\")\n",
    "  \n",
    "  soup = bs(response.text, \"html.parser\")\n",
    "  result = soup.select(\"tbody > tr\")\n",
    "  \n",
    "  result_list = []  \n",
    "  try:\n",
    "    for p in result[::-1]:\n",
    "      state = p.get(\"class\")[0]\n",
    "      td_list = p.select(\"td\")\n",
    "      td = [td_list[0].getText().strip().replace(\".\", \"-\"), oil_type, state, td_list[1].getText().strip(), td_list[2].getText().strip(), td_list[3].getText().strip()[1:-1].strip()]\n",
    "      \n",
    "      cur_date = dt.datetime.strptime(td[0], \"%Y-%m-%d\")\n",
    "      start_diff = (cur_date - start).total_seconds()\n",
    "      end_diff= (end - cur_date).total_seconds()\n",
    "      if start_diff < 0 or end_diff <= 0:\n",
    "        continue\n",
    "      \n",
    "      result_list.append(\"('{}', '{}', '{}', {}, {}, {})\".format(td[0], td[1], td[2], td[3].replace(\",\", \"\"), td[4], td[5]))\n",
    "  except Exception as ex:\n",
    "    print(\"oil_bs 오류 발생\")\n",
    "    print(ex)\n",
    "  \n",
    "  return result_list"
   ]
  },
  {
   "cell_type": "markdown",
   "metadata": {},
   "source": [
    "##### 금\n",
    "- 국제금\n",
    "  - 예시 : https://finance.naver.com/marketindex/worldDailyQuote.naver?marketindexCd=CMDT_GC&fdtc=2&page=446\n",
    "- 국내금\n",
    "  - 예시 : https://finance.naver.com/marketindex/goldDailyQuote.naver?&page=305\n",
    "\n"
   ]
  },
  {
   "cell_type": "code",
   "execution_count": 49,
   "metadata": {},
   "outputs": [],
   "source": [
    "def gold_api(gold_type):\n",
    "  if gold_type == \"national\":\n",
    "    HOST = \"https://finance.naver.com/marketindex/worldDailyQuote.naver?marketindexCd=CMDT_GC&fdtc=2&page=\"\n",
    "    page = 446\n",
    "    end = 10\n",
    "    gold = \"국제금(달러/트로이온스)\"\n",
    "  else :\n",
    "    HOST = \"https://finance.naver.com/marketindex/goldDailyQuote.naver?&page=\"\n",
    "    page = 305\n",
    "    end = 8\n",
    "    gold = \"국내금(원/g)\"\n",
    "  \n",
    "  headers = {\"Content-Type\" : \"application/json\", \"charset\" : \"UTF-8\", \"Accept\":\"*/*\"}\n",
    "\n",
    "  try:\n",
    "    result_list = []\n",
    "    for p in tqdm(range(page, end-1, -1), \n",
    "              total = page-end+1, ## 전체 진행수\n",
    "              desc = 'Desc', ## 진행률 앞쪽 출력 문장\n",
    "              ncols = 80, ## 진행률 출력 폭 조절\n",
    "              leave = True, ## True 반복문 완료시 진행률 출력 남김. False 남기지 않음.\n",
    "            ):\n",
    "      url = HOST+str(p)\n",
    "      response = requests.get(url, headers=headers)\n",
    "      result_list.extend(gold_bs(response, gold))\n",
    "      \n",
    "      time.sleep(0.5)\n",
    "      \n",
    "    return result_list\n",
    "  except Exception as ex:\n",
    "    print(\"gold_api 오류 발생\")\n",
    "    print(ex)\n",
    "\n",
    "def gold_bs(response, gold_type):\n",
    "  start = dt.datetime.strptime(\"2011-01-01\", \"%Y-%m-%d\")\n",
    "  end = dt.datetime.strptime(\"2023-01-01\", \"%Y-%m-%d\")\n",
    "  \n",
    "  soup = bs(response.text, \"html.parser\")\n",
    "  result = soup.select(\"tbody > tr\")\n",
    "  \n",
    "  result_list = []  \n",
    "  try:\n",
    "    for p in result[::-1]:\n",
    "      state = p.get(\"class\")[0]\n",
    "      td_list = p.select(\"td\")\n",
    "      \n",
    "      td = [td_list[0].getText().strip().replace(\".\", \"-\"), gold_type, state, td_list[1].getText().strip(), td_list[2].getText().strip()]\n",
    "      if gold_type == \"국제금(달러/트로이온스)\" :\n",
    "        td.append(td_list[3].getText().strip()[1:-1].strip())\n",
    "      else :\n",
    "        temp_value = float(td[-2]) + float(td[-1]) if td[2] == 'down' else (-float(td[-1]))\n",
    "        td.append(str(round(float(td[-1]) / temp_value, 1)))\n",
    "      \n",
    "      cur_date = dt.datetime.strptime(td[0], \"%Y-%m-%d\")\n",
    "      start_diff = (cur_date - start).total_seconds()\n",
    "      end_diff= (end - cur_date).total_seconds()\n",
    "      if start_diff < 0 or end_diff <= 0:\n",
    "        continue\n",
    "      \n",
    "      result_list.append(\"('{}', '{}', '{}', {}, {}, {})\".format(td[0], td[1], td[2], td[3].replace(\",\", \"\"), td[4], td[5]))\n",
    "  except Exception as ex:\n",
    "    print(\"gold_bs 오류 발생\")\n",
    "    print(ex)\n",
    "  \n",
    "  return result_list"
   ]
  },
  {
   "attachments": {},
   "cell_type": "markdown",
   "metadata": {},
   "source": [
    "#### 데이터 수집"
   ]
  },
  {
   "attachments": {},
   "cell_type": "markdown",
   "metadata": {},
   "source": [
    "##### 오일"
   ]
  },
  {
   "cell_type": "code",
   "execution_count": 50,
   "metadata": {},
   "outputs": [
    {
     "name": "stderr",
     "output_type": "stream",
     "text": [
      "Desc: 100%|███████████████████████████████████| 437/437 [04:29<00:00,  1.62it/s]\n"
     ]
    }
   ],
   "source": [
    "result_list = gold_api(\"national\")"
   ]
  },
  {
   "cell_type": "code",
   "execution_count": 53,
   "metadata": {},
   "outputs": [
    {
     "name": "stderr",
     "output_type": "stream",
     "text": [
      "Desc:   0%|                                             | 0/298 [00:00<?, ?it/s]"
     ]
    },
    {
     "name": "stdout",
     "output_type": "stream",
     "text": [
      "gold_bs 오류 발생\n",
      "could not convert string to float: '51,445.67'\n"
     ]
    },
    {
     "name": "stderr",
     "output_type": "stream",
     "text": [
      "Desc:   0%|                                     | 1/298 [00:00<02:56,  1.69it/s]"
     ]
    },
    {
     "name": "stdout",
     "output_type": "stream",
     "text": [
      "gold_bs 오류 발생\n",
      "could not convert string to float: '50,783.09'\n"
     ]
    },
    {
     "name": "stderr",
     "output_type": "stream",
     "text": [
      "Desc:   1%|▏                                    | 2/298 [00:01<03:01,  1.63it/s]"
     ]
    },
    {
     "name": "stdout",
     "output_type": "stream",
     "text": [
      "gold_bs 오류 발생\n",
      "could not convert string to float: '48,473.63'\n"
     ]
    },
    {
     "name": "stderr",
     "output_type": "stream",
     "text": [
      "Desc:   1%|▎                                    | 3/298 [00:01<03:03,  1.60it/s]"
     ]
    },
    {
     "name": "stdout",
     "output_type": "stream",
     "text": [
      "gold_bs 오류 발생\n",
      "could not convert string to float: '48,056.67'\n"
     ]
    },
    {
     "name": "stderr",
     "output_type": "stream",
     "text": [
      "Desc:   1%|▍                                    | 4/298 [00:02<03:05,  1.59it/s]"
     ]
    },
    {
     "name": "stdout",
     "output_type": "stream",
     "text": [
      "gold_bs 오류 발생\n",
      "could not convert string to float: '50,624.57'\n"
     ]
    },
    {
     "name": "stderr",
     "output_type": "stream",
     "text": [
      "Desc:   1%|▍                                    | 4/298 [00:03<03:48,  1.29it/s]\n"
     ]
    },
    {
     "ename": "KeyboardInterrupt",
     "evalue": "",
     "output_type": "error",
     "traceback": [
      "\u001b[1;31m---------------------------------------------------------------------------\u001b[0m",
      "\u001b[1;31mKeyboardInterrupt\u001b[0m                         Traceback (most recent call last)",
      "Cell \u001b[1;32mIn[53], line 1\u001b[0m\n\u001b[1;32m----> 1\u001b[0m result_list \u001b[39m=\u001b[39m gold_api(\u001b[39m\"\u001b[39;49m\u001b[39mdaily\u001b[39;49m\u001b[39m\"\u001b[39;49m)\n",
      "Cell \u001b[1;32mIn[49], line 27\u001b[0m, in \u001b[0;36mgold_api\u001b[1;34m(gold_type)\u001b[0m\n\u001b[0;32m     24\u001b[0m     response \u001b[39m=\u001b[39m requests\u001b[39m.\u001b[39mget(url, headers\u001b[39m=\u001b[39mheaders)\n\u001b[0;32m     25\u001b[0m     result_list\u001b[39m.\u001b[39mextend(gold_bs(response, gold))\n\u001b[1;32m---> 27\u001b[0m     time\u001b[39m.\u001b[39;49msleep(\u001b[39m0.5\u001b[39;49m)\n\u001b[0;32m     29\u001b[0m   \u001b[39mreturn\u001b[39;00m result_list\n\u001b[0;32m     30\u001b[0m \u001b[39mexcept\u001b[39;00m \u001b[39mException\u001b[39;00m \u001b[39mas\u001b[39;00m ex:\n",
      "\u001b[1;31mKeyboardInterrupt\u001b[0m: "
     ]
    }
   ],
   "source": [
    "result_list = gold_api(\"daily\")"
   ]
  },
  {
   "attachments": {},
   "cell_type": "markdown",
   "metadata": {},
   "source": [
    "#### 저장 및 불러오기"
   ]
  },
  {
   "cell_type": "code",
   "execution_count": 52,
   "metadata": {},
   "outputs": [],
   "source": [
    "with open(\"data(national_gold_230414).p\", \"wb\") as f:\n",
    "  pickle.dump(result_list, f)"
   ]
  },
  {
   "cell_type": "code",
   "execution_count": 14,
   "metadata": {},
   "outputs": [],
   "source": [
    "with open(\"data(domestic_gold_230414).p\", \"rb\") as f:\n",
    "  result_list = pickle.load(f)"
   ]
  },
  {
   "attachments": {},
   "cell_type": "markdown",
   "metadata": {},
   "source": [
    "#### DB 저장"
   ]
  },
  {
   "cell_type": "code",
   "execution_count": 39,
   "metadata": {},
   "outputs": [],
   "source": [
    "con = pymysql.connect(host='localhost', user='ssafy', password='ssafy', \n",
    "                      db='access_db', charset='utf8mb4', autocommit=True)\n",
    "cur = con.cursor()"
   ]
  },
  {
   "cell_type": "code",
   "execution_count": 40,
   "metadata": {},
   "outputs": [],
   "source": [
    "sql = \"INSERT INTO material(material_date, material_name, material_state, material_rate, material_change, material_change_rate) VALUES \" + \",\".join(result_list)\n",
    "cur.execute(sql)\n",
    "con.close()"
   ]
  }
 ],
 "metadata": {
  "kernelspec": {
   "display_name": "base",
   "language": "python",
   "name": "python3"
  },
  "language_info": {
   "codemirror_mode": {
    "name": "ipython",
    "version": 3
   },
   "file_extension": ".py",
   "mimetype": "text/x-python",
   "name": "python",
   "nbconvert_exporter": "python",
   "pygments_lexer": "ipython3",
   "version": "3.10.9"
  },
  "orig_nbformat": 4
 },
 "nbformat": 4,
 "nbformat_minor": 2
}
