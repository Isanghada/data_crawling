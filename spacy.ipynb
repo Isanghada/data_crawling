{
 "cells": [
  {
   "cell_type": "code",
   "execution_count": 18,
   "metadata": {},
   "outputs": [
    {
     "name": "stdout",
     "output_type": "stream",
     "text": [
      "[]\n"
     ]
    }
   ],
   "source": [
    "import spacy\n",
    "\n",
    "nlp = spacy.load('ko_core_news_lg')\n",
    "\n",
    "def find_company_names(text):\n",
    "    doc = nlp(text)\n",
    "    company_names = []\n",
    "    for ent in doc.ents:\n",
    "        if ent.label_ == 'ORG':\n",
    "            company_names.append(ent.text)\n",
    "    return company_names\n",
    "\n",
    "text = '네이버, NHK 한국어 동시통역 문자 생중계'\n",
    "company_names = find_company_names(text)\n",
    "print(company_names)  # ['Apple']"
   ]
  },
  {
   "cell_type": "code",
   "execution_count": 21,
   "metadata": {},
   "outputs": [
    {
     "name": "stdout",
     "output_type": "stream",
     "text": [
      "['네이버', 'NHK', '한국어', '문자']\n"
     ]
    }
   ],
   "source": [
    "from konlpy.tag import Komoran\n",
    "\n",
    "komoran = Komoran()\n",
    "\n",
    "def find_company_names(text):\n",
    "    company_names = []\n",
    "    pos = komoran.pos(text)\n",
    "    for i in range(len(pos)):\n",
    "        if pos[i][1] == 'SL' and len(pos[i][0]) > 1:\n",
    "            company_names.append(pos[i][0])\n",
    "        elif pos[i][1] == 'NNP':\n",
    "            company_names.append(pos[i][0])\n",
    "    return company_names\n",
    "\n",
    "text = '네이버, NHK 한국어 동시통역 문자 생중계'\n",
    "company_names = find_company_names(text)\n",
    "print(company_names)  # ['삼성전자']"
   ]
  }
 ],
 "metadata": {
  "kernelspec": {
   "display_name": "base",
   "language": "python",
   "name": "python3"
  },
  "language_info": {
   "codemirror_mode": {
    "name": "ipython",
    "version": 3
   },
   "file_extension": ".py",
   "mimetype": "text/x-python",
   "name": "python",
   "nbconvert_exporter": "python",
   "pygments_lexer": "ipython3",
   "version": "3.10.9"
  },
  "orig_nbformat": 4
 },
 "nbformat": 4,
 "nbformat_minor": 2
}
